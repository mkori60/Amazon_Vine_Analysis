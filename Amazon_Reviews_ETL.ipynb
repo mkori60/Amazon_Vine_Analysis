{
  "nbformat": 4,
  "nbformat_minor": 0,
  "metadata": {
    "colab": {
      "name": "Amazon_Reviews_ETL",
      "provenance": [],
      "collapsed_sections": []
    },
    "kernelspec": {
      "name": "python3",
      "display_name": "Python 3"
    },
    "nteract": {
      "version": "0.12.3"
    },
    "language_info": {
      "name": "python"
    }
  },
  "cells": [
    {
      "cell_type": "code",
      "metadata": {
        "id": "V58rxea0HqSa",
        "colab": {
          "base_uri": "https://localhost:8080/"
        },
        "outputId": "52690c61-80d7-4e25-b7db-f9418a829ba6"
      },
      "source": [
        "import os\n",
        "# Find the latest version of spark 3.0 from http://www.apache.org/dist/spark/ and enter as the spark version\n",
        "# For example:\n",
        "# spark_version = 'spark-3.0.3'\n",
        "spark_version = 'spark-3.0.3'\n",
        "os.environ['SPARK_VERSION']=spark_version\n",
        "\n",
        "# Install Spark and Java\n",
        "!apt-get update\n",
        "!apt-get install openjdk-11-jdk-headless -qq > /dev/null\n",
        "!wget -q http://www.apache.org/dist/spark/$SPARK_VERSION/$SPARK_VERSION-bin-hadoop2.7.tgz\n",
        "!tar xf $SPARK_VERSION-bin-hadoop2.7.tgz\n",
        "!pip install -q findspark\n",
        "\n",
        "# Set Environment Variables\n",
        "import os\n",
        "os.environ[\"JAVA_HOME\"] = \"/usr/lib/jvm/java-11-openjdk-amd64\"\n",
        "os.environ[\"SPARK_HOME\"] = f\"/content/{spark_version}-bin-hadoop2.7\"\n",
        "\n",
        "# Start a SparkSession\n",
        "import findspark\n",
        "findspark.init()"
      ],
      "execution_count": 1,
      "outputs": [
        {
          "output_type": "stream",
          "text": [
            "\r0% [Working]\r            \rGet:1 https://cloud.r-project.org/bin/linux/ubuntu bionic-cran40/ InRelease [3,626 B]\n",
            "\r0% [Connecting to archive.ubuntu.com] [Connecting to security.ubuntu.com] [1 In\r0% [Connecting to archive.ubuntu.com] [Connecting to security.ubuntu.com] [Conn\r0% [1 InRelease gpgv 3,626 B] [Connecting to archive.ubuntu.com (91.189.88.152)\r                                                                               \rIgn:2 https://developer.download.nvidia.com/compute/cuda/repos/ubuntu1804/x86_64  InRelease\n",
            "\r0% [1 InRelease gpgv 3,626 B] [Connecting to archive.ubuntu.com (91.189.88.152)\r                                                                               \rGet:3 http://security.ubuntu.com/ubuntu bionic-security InRelease [88.7 kB]\n",
            "\r0% [1 InRelease gpgv 3,626 B] [Connecting to archive.ubuntu.com (91.189.88.152)\r                                                                               \rIgn:4 https://developer.download.nvidia.com/compute/machine-learning/repos/ubuntu1804/x86_64  InRelease\n",
            "\r0% [1 InRelease gpgv 3,626 B] [Connecting to archive.ubuntu.com (91.189.88.152)\r                                                                               \rHit:5 https://developer.download.nvidia.com/compute/cuda/repos/ubuntu1804/x86_64  Release\n",
            "\r0% [1 InRelease gpgv 3,626 B] [Connecting to archive.ubuntu.com (91.189.88.152)\r                                                                               \rHit:6 https://developer.download.nvidia.com/compute/machine-learning/repos/ubuntu1804/x86_64  Release\n",
            "Get:7 http://ppa.launchpad.net/c2d4u.team/c2d4u4.0+/ubuntu bionic InRelease [15.9 kB]\n",
            "Hit:8 http://archive.ubuntu.com/ubuntu bionic InRelease\n",
            "Get:9 http://archive.ubuntu.com/ubuntu bionic-updates InRelease [88.7 kB]\n",
            "Hit:10 http://ppa.launchpad.net/cran/libgit2/ubuntu bionic InRelease\n",
            "Hit:12 http://ppa.launchpad.net/deadsnakes/ppa/ubuntu bionic InRelease\n",
            "Get:14 http://archive.ubuntu.com/ubuntu bionic-backports InRelease [74.6 kB]\n",
            "Hit:15 http://ppa.launchpad.net/graphics-drivers/ppa/ubuntu bionic InRelease\n",
            "Get:16 http://security.ubuntu.com/ubuntu bionic-security/main amd64 Packages [2,294 kB]\n",
            "Get:17 http://security.ubuntu.com/ubuntu bionic-security/universe amd64 Packages [1,424 kB]\n",
            "Get:18 http://security.ubuntu.com/ubuntu bionic-security/restricted amd64 Packages [543 kB]\n",
            "Get:19 http://ppa.launchpad.net/c2d4u.team/c2d4u4.0+/ubuntu bionic/main Sources [1,792 kB]\n",
            "Get:20 http://ppa.launchpad.net/c2d4u.team/c2d4u4.0+/ubuntu bionic/main amd64 Packages [917 kB]\n",
            "Get:21 http://archive.ubuntu.com/ubuntu bionic-updates/universe amd64 Packages [2,199 kB]\n",
            "Get:22 http://archive.ubuntu.com/ubuntu bionic-updates/main amd64 Packages [2,730 kB]\n",
            "Get:23 http://archive.ubuntu.com/ubuntu bionic-updates/restricted amd64 Packages [575 kB]\n",
            "Get:24 http://archive.ubuntu.com/ubuntu bionic-updates/multiverse amd64 Packages [34.4 kB]\n",
            "Fetched 12.8 MB in 4s (2,860 kB/s)\n",
            "Reading package lists... Done\n"
          ],
          "name": "stdout"
        }
      ]
    },
    {
      "cell_type": "code",
      "metadata": {
        "id": "_xKwTpATHqSe",
        "colab": {
          "base_uri": "https://localhost:8080/"
        },
        "outputId": "0719d466-8c1d-4eb6-9678-f162c8d823ce"
      },
      "source": [
        "# Download the Postgres driver that will allow Spark to interact with Postgres.\n",
        "!wget https://jdbc.postgresql.org/download/postgresql-42.2.16.jar"
      ],
      "execution_count": 2,
      "outputs": [
        {
          "output_type": "stream",
          "text": [
            "--2021-08-20 05:52:32--  https://jdbc.postgresql.org/download/postgresql-42.2.16.jar\n",
            "Resolving jdbc.postgresql.org (jdbc.postgresql.org)... 72.32.157.228, 2001:4800:3e1:1::228\n",
            "Connecting to jdbc.postgresql.org (jdbc.postgresql.org)|72.32.157.228|:443... connected.\n",
            "HTTP request sent, awaiting response... 200 OK\n",
            "Length: 1002883 (979K) [application/java-archive]\n",
            "Saving to: ‘postgresql-42.2.16.jar’\n",
            "\n",
            "postgresql-42.2.16. 100%[===================>] 979.38K  --.-KB/s    in 0.09s   \n",
            "\n",
            "2021-08-20 05:52:32 (11.2 MB/s) - ‘postgresql-42.2.16.jar’ saved [1002883/1002883]\n",
            "\n"
          ],
          "name": "stdout"
        }
      ]
    },
    {
      "cell_type": "code",
      "metadata": {
        "id": "MMqDAjVS0KN9"
      },
      "source": [
        "from pyspark.sql import SparkSession\n",
        "spark = SparkSession.builder.appName(\"M16-Amazon-Challenge\").config(\"spark.driver.extraClassPath\",\"/content/postgresql-42.2.16.jar\").getOrCreate()"
      ],
      "execution_count": 3,
      "outputs": []
    },
    {
      "cell_type": "markdown",
      "metadata": {
        "id": "cyBsySGuY-9V"
      },
      "source": [
        "### Load Amazon Data into Spark DataFrame"
      ]
    },
    {
      "cell_type": "code",
      "metadata": {
        "id": "CtCmBhQJY-9Z",
        "colab": {
          "base_uri": "https://localhost:8080/"
        },
        "outputId": "6e83a7cf-2d33-40f1-dadb-9a1098a13919"
      },
      "source": [
        "from pyspark import SparkFiles\n",
        "url = \"https://s3.amazonaws.com/amazon-reviews-pds/tsv/amazon_reviews_us_Music_v1_00.tsv.gz\"\n",
        "spark.sparkContext.addFile(url)\n",
        "df = spark.read.option(\"encoding\", \"UTF-8\").csv(SparkFiles.get(\"\"), sep=\"\\t\", header=True, inferSchema=True)\n",
        "df.show()"
      ],
      "execution_count": 5,
      "outputs": [
        {
          "output_type": "stream",
          "text": [
            "+-----------+-----------+--------------+----------+--------------+--------------------+----------------+-----------+-------------+-----------+----+-----------------+--------------------+--------------------+-----------+\n",
            "|marketplace|customer_id|     review_id|product_id|product_parent|       product_title|product_category|star_rating|helpful_votes|total_votes|vine|verified_purchase|     review_headline|         review_body|review_date|\n",
            "+-----------+-----------+--------------+----------+--------------+--------------------+----------------+-----------+-------------+-----------+----+-----------------+--------------------+--------------------+-----------+\n",
            "|         US|   10140119|R3LI5TRP3YIDQL|B00TXH4OLC|     384427924|Whatever's for Us...|           Music|          5|            0|          0|   N|                Y|          Five Stars|Love this CD alon...| 2015-08-31|\n",
            "|         US|   27664622|R3LGC3EKEG84PX|B00B6QXN6U|     831769051|Same Trailer Diff...|           Music|          5|            0|          0|   N|                Y|A new fave in our...|This is the album...| 2015-08-31|\n",
            "|         US|   45946560| R9PYL3OYH55QY|B001GCZXW6|      14067376| Soaring (Jazz Club)|           Music|          5|            0|          1|   N|                Y|          Five Stars|  Excellent / thanks| 2015-08-31|\n",
            "|         US|   15146326|R3PWBAWUS4NT0Q|B000003EK6|     566295619|     CARIBBEAN PARTY|           Music|          3|            0|          0|   N|                Y|         Three Stars|Nice variety of c...| 2015-08-31|\n",
            "|         US|   16794688|R15LYP3O51UU9E|B00N1F0BKK|     210426072|         Pain Killer|           Music|          5|            0|          0|   N|                Y|          Five Stars|Purchased as a gi...| 2015-08-31|\n",
            "|         US|   32203364|R1AD7L0CC3DSRI|B00V7KAO7Q|     360249504|A Thoughtiverse U...|           Music|          5|            0|          0|   N|                Y|Definitely worth ...|Really enjoyed th...| 2015-08-31|\n",
            "|         US|    1194276|R32FE8Y45QV434|B000094Q4P|      20972283|Comfort of Her Wings|           Music|          5|            0|          0|   N|                Y|          Five Stars|            Great CD| 2015-08-31|\n",
            "|         US|   45813052|R3NM4MZ4XWL43Q|B00JMK0P1I|     378049560|Sleep Soundly CD ...|           Music|          5|            1|          2|   N|                Y|          Five Stars|       Excellent CD!| 2015-08-31|\n",
            "|         US|   12795687|R3H4FXX6Q7I37D|B008OW1S3O|     141620702|     An Awesome Wave|           Music|          4|            0|          0|   N|                Y|          Four Stars|                nice| 2015-08-31|\n",
            "|         US|   36673840|R30L5PET7LFFDC|B00VI2L3L4|     920557135|          Blurryface|           Music|          5|            1|          1|   N|                Y|        Outstanding!|Outstanding music...| 2015-08-31|\n",
            "|         US|   49453576|  REFRE1LEKLAF|B0000041EV|     683128964|Mozart For Mother...|           Music|          4|            1|          1|   N|                Y|          Four Stars|      quite relaxing| 2015-08-31|\n",
            "|         US|    3285047|R3JTJ5EQN74E9H|B00005YW4H|     268461622|   Come Away with Me|           Music|          5|            0|          0|   N|                Y|          Five Stars|I love this CD.  ...| 2015-08-31|\n",
            "|         US|   24471201|R1W2F091LCOAW5|B00Q9KEZV0|     444090572| Tomorrow Is My Turn|           Music|          5|            0|          0|   N|                Y|FIve Stars and Th...|Rhiannon Giddens ...| 2015-08-31|\n",
            "|         US|   28049396| RYUMFQRRB1FNM|B00GFXRKHW|     482597726|       The Outsiders|           Music|          3|            0|          0|   N|                Y|         Three Stars|Wrecking Ball is ...| 2015-08-31|\n",
            "|         US|   41137196| RHCS6VVXWV3Q3|B004L3AQ10|     609457123|  The Lincoln Lawyer|           Music|          5|            0|          0|   N|                Y|          Five Stars|I was pleased wit...| 2015-08-31|\n",
            "|         US|   43305401|R35UL1YZ2142SL|B0000025PM|     125399885|Bach: Goldberg Va...|           Music|          5|            0|          0|   N|                Y|   The Creative Flow|The music that in...| 2015-08-31|\n",
            "|         US|   50808489|  RU1O6QD1LEBB|B00701QUN8|     144457491|Quiet Riot - Grea...|           Music|          5|            0|          0|   N|                Y|          Five Stars|   Excellent CD&#62;| 2015-08-31|\n",
            "|         US|   15536614|R36RXVL3XIZFH7|B003UJC2QI|     207971309|Love Or Money/Lov...|           Music|          5|            0|          0|   N|                N|    Great Pop Single|Love Or Money by ...| 2015-08-31|\n",
            "|         US|   32536909|R16O7SHYHLEYA1|B00LGA16J2|     760666287|Jonas Kaufmann - ...|           Music|          5|            0|          0|   N|                Y|          Five Stars|      Just splendid!| 2015-08-31|\n",
            "|         US|   51160312|R1Y5GX65Z2V9BG|B00ZGVMLLE|      37408836|        Clockworking|           Music|          5|            0|          0|   N|                N|Glorious Glorious...|One of my favorit...| 2015-08-31|\n",
            "+-----------+-----------+--------------+----------+--------------+--------------------+----------------+-----------+-------------+-----------+----+-----------------+--------------------+--------------------+-----------+\n",
            "only showing top 20 rows\n",
            "\n"
          ],
          "name": "stdout"
        }
      ]
    },
    {
      "cell_type": "markdown",
      "metadata": {
        "id": "2yUSe55VY-9t"
      },
      "source": [
        "### Create DataFrames to match tables"
      ]
    },
    {
      "cell_type": "code",
      "metadata": {
        "id": "C8REmY1aY-9u",
        "colab": {
          "base_uri": "https://localhost:8080/"
        },
        "outputId": "fa95b1f2-40ef-45f1-bc84-752600f0fe82"
      },
      "source": [
        "from pyspark.sql.functions import to_date\n",
        "# Read in the Review dataset as a DataFrame\n",
        "df.show()"
      ],
      "execution_count": 10,
      "outputs": [
        {
          "output_type": "stream",
          "text": [
            "+-----------+-----------+--------------+----------+--------------+--------------------+----------------+-----------+-------------+-----------+----+-----------------+--------------------+--------------------+-----------+\n",
            "|marketplace|customer_id|     review_id|product_id|product_parent|       product_title|product_category|star_rating|helpful_votes|total_votes|vine|verified_purchase|     review_headline|         review_body|review_date|\n",
            "+-----------+-----------+--------------+----------+--------------+--------------------+----------------+-----------+-------------+-----------+----+-----------------+--------------------+--------------------+-----------+\n",
            "|         US|   10140119|R3LI5TRP3YIDQL|B00TXH4OLC|     384427924|Whatever's for Us...|           Music|          5|            0|          0|   N|                Y|          Five Stars|Love this CD alon...| 2015-08-31|\n",
            "|         US|   27664622|R3LGC3EKEG84PX|B00B6QXN6U|     831769051|Same Trailer Diff...|           Music|          5|            0|          0|   N|                Y|A new fave in our...|This is the album...| 2015-08-31|\n",
            "|         US|   45946560| R9PYL3OYH55QY|B001GCZXW6|      14067376| Soaring (Jazz Club)|           Music|          5|            0|          1|   N|                Y|          Five Stars|  Excellent / thanks| 2015-08-31|\n",
            "|         US|   15146326|R3PWBAWUS4NT0Q|B000003EK6|     566295619|     CARIBBEAN PARTY|           Music|          3|            0|          0|   N|                Y|         Three Stars|Nice variety of c...| 2015-08-31|\n",
            "|         US|   16794688|R15LYP3O51UU9E|B00N1F0BKK|     210426072|         Pain Killer|           Music|          5|            0|          0|   N|                Y|          Five Stars|Purchased as a gi...| 2015-08-31|\n",
            "|         US|   32203364|R1AD7L0CC3DSRI|B00V7KAO7Q|     360249504|A Thoughtiverse U...|           Music|          5|            0|          0|   N|                Y|Definitely worth ...|Really enjoyed th...| 2015-08-31|\n",
            "|         US|    1194276|R32FE8Y45QV434|B000094Q4P|      20972283|Comfort of Her Wings|           Music|          5|            0|          0|   N|                Y|          Five Stars|            Great CD| 2015-08-31|\n",
            "|         US|   45813052|R3NM4MZ4XWL43Q|B00JMK0P1I|     378049560|Sleep Soundly CD ...|           Music|          5|            1|          2|   N|                Y|          Five Stars|       Excellent CD!| 2015-08-31|\n",
            "|         US|   12795687|R3H4FXX6Q7I37D|B008OW1S3O|     141620702|     An Awesome Wave|           Music|          4|            0|          0|   N|                Y|          Four Stars|                nice| 2015-08-31|\n",
            "|         US|   36673840|R30L5PET7LFFDC|B00VI2L3L4|     920557135|          Blurryface|           Music|          5|            1|          1|   N|                Y|        Outstanding!|Outstanding music...| 2015-08-31|\n",
            "|         US|   49453576|  REFRE1LEKLAF|B0000041EV|     683128964|Mozart For Mother...|           Music|          4|            1|          1|   N|                Y|          Four Stars|      quite relaxing| 2015-08-31|\n",
            "|         US|    3285047|R3JTJ5EQN74E9H|B00005YW4H|     268461622|   Come Away with Me|           Music|          5|            0|          0|   N|                Y|          Five Stars|I love this CD.  ...| 2015-08-31|\n",
            "|         US|   24471201|R1W2F091LCOAW5|B00Q9KEZV0|     444090572| Tomorrow Is My Turn|           Music|          5|            0|          0|   N|                Y|FIve Stars and Th...|Rhiannon Giddens ...| 2015-08-31|\n",
            "|         US|   28049396| RYUMFQRRB1FNM|B00GFXRKHW|     482597726|       The Outsiders|           Music|          3|            0|          0|   N|                Y|         Three Stars|Wrecking Ball is ...| 2015-08-31|\n",
            "|         US|   41137196| RHCS6VVXWV3Q3|B004L3AQ10|     609457123|  The Lincoln Lawyer|           Music|          5|            0|          0|   N|                Y|          Five Stars|I was pleased wit...| 2015-08-31|\n",
            "|         US|   43305401|R35UL1YZ2142SL|B0000025PM|     125399885|Bach: Goldberg Va...|           Music|          5|            0|          0|   N|                Y|   The Creative Flow|The music that in...| 2015-08-31|\n",
            "|         US|   50808489|  RU1O6QD1LEBB|B00701QUN8|     144457491|Quiet Riot - Grea...|           Music|          5|            0|          0|   N|                Y|          Five Stars|   Excellent CD&#62;| 2015-08-31|\n",
            "|         US|   15536614|R36RXVL3XIZFH7|B003UJC2QI|     207971309|Love Or Money/Lov...|           Music|          5|            0|          0|   N|                N|    Great Pop Single|Love Or Money by ...| 2015-08-31|\n",
            "|         US|   32536909|R16O7SHYHLEYA1|B00LGA16J2|     760666287|Jonas Kaufmann - ...|           Music|          5|            0|          0|   N|                Y|          Five Stars|      Just splendid!| 2015-08-31|\n",
            "|         US|   51160312|R1Y5GX65Z2V9BG|B00ZGVMLLE|      37408836|        Clockworking|           Music|          5|            0|          0|   N|                N|Glorious Glorious...|One of my favorit...| 2015-08-31|\n",
            "+-----------+-----------+--------------+----------+--------------+--------------------+----------------+-----------+-------------+-----------+----+-----------------+--------------------+--------------------+-----------+\n",
            "only showing top 20 rows\n",
            "\n"
          ],
          "name": "stdout"
        }
      ]
    },
    {
      "cell_type": "code",
      "metadata": {
        "id": "B0TESUDRY-90",
        "colab": {
          "base_uri": "https://localhost:8080/"
        },
        "outputId": "44d094ad-e44f-4ed3-8d87-ef55b69c70d7"
      },
      "source": [
        "# Create the customers_table DataFrame\n",
        "customers_df = df.groupby(\"customer_id\").agg({\"customer_id\": \"count\"}).withColumnRenamed(\"count(customer_id)\", \"customer_count\")\n",
        "customers_df.show()"
      ],
      "execution_count": 12,
      "outputs": [
        {
          "output_type": "stream",
          "text": [
            "+-----------+--------------+\n",
            "|customer_id|customer_count|\n",
            "+-----------+--------------+\n",
            "|     651796|             2|\n",
            "|   44979559|             1|\n",
            "|   45632184|             1|\n",
            "|   15232809|             1|\n",
            "|   17067926|             1|\n",
            "|   26163929|             1|\n",
            "|   20587872|             2|\n",
            "|   14230926|             3|\n",
            "|   52081222|             2|\n",
            "|   13382150|             1|\n",
            "|   13517415|             1|\n",
            "|   19324145|            33|\n",
            "|   46311034|             2|\n",
            "|   39430203|           113|\n",
            "|    5573238|             1|\n",
            "|   53095124|            11|\n",
            "|     172523|             1|\n",
            "|     283137|             1|\n",
            "|    1356209|             1|\n",
            "|   28074100|             2|\n",
            "+-----------+--------------+\n",
            "only showing top 20 rows\n",
            "\n"
          ],
          "name": "stdout"
        }
      ]
    },
    {
      "cell_type": "code",
      "metadata": {
        "id": "4FwXA6UvY-96",
        "colab": {
          "base_uri": "https://localhost:8080/"
        },
        "outputId": "652e55cf-f303-4322-8a88-3389b49bacfe"
      },
      "source": [
        "# Create the products_table DataFrame and drop duplicates. \n",
        "products_df = df.select(['product_id', 'product_title']).drop_duplicates(subset=['product_id'])\n",
        "products_df.show()"
      ],
      "execution_count": 14,
      "outputs": [
        {
          "output_type": "stream",
          "text": [
            "+----------+--------------------+\n",
            "|product_id|       product_title|\n",
            "+----------+--------------------+\n",
            "|0005072271|Action Bible Song...|\n",
            "|1070313335|CTI All Stars - L...|\n",
            "|5552936752|Scherrer/Fritz: S...|\n",
            "|5557497749|Something Out of ...|\n",
            "|6301936590|       Sunny Side Up|\n",
            "|6302014700|Rock 'n' Roll Rad...|\n",
            "|7880595023|Dadawa: Voices fr...|\n",
            "|B0000000AP|      Edge of Dreams|\n",
            "|B0000000ID|World of Private ...|\n",
            "|B0000001NY| Consider the Source|\n",
            "|B00000020S|               Tommy|\n",
            "|B0000002AU|3 Harps for Chris...|\n",
            "|B0000002Q6|     A Cowboy's Life|\n",
            "|B0000003A8|    Mwenda Wa Bayeke|\n",
            "|B0000003BQ|      Zack's Bon Ton|\n",
            "|B0000004E9|         Mighty Baby|\n",
            "|B0000004IT|        Singles 1-12|\n",
            "|B0000005PU|        Mi Vida Loca|\n",
            "|B00000060N|Maidens of the Ce...|\n",
            "|B0000006K1|  Live at Maybeck 12|\n",
            "+----------+--------------------+\n",
            "only showing top 20 rows\n",
            "\n"
          ],
          "name": "stdout"
        }
      ]
    },
    {
      "cell_type": "code",
      "metadata": {
        "id": "MkqyCuNQY-9-",
        "colab": {
          "base_uri": "https://localhost:8080/"
        },
        "outputId": "0896c9de-bf9d-438d-ae55-21401af64181"
      },
      "source": [
        "# Create the review_id_table DataFrame. \n",
        "# Convert the 'review_date' column to a date datatype with to_date(\"review_date\", 'yyyy-MM-dd').alias(\"review_date\")\n",
        "review_id_df = df.select(['review_id', 'customer_id', 'product_id', 'product_parent', to_date(\"review_date\", 'yyyy-MM-dd').alias(\"review_date\")])\n",
        "review_id_df.show()"
      ],
      "execution_count": 16,
      "outputs": [
        {
          "output_type": "stream",
          "text": [
            "+--------------+-----------+----------+--------------+-----------+\n",
            "|     review_id|customer_id|product_id|product_parent|review_date|\n",
            "+--------------+-----------+----------+--------------+-----------+\n",
            "|R3LI5TRP3YIDQL|   10140119|B00TXH4OLC|     384427924| 2015-08-31|\n",
            "|R3LGC3EKEG84PX|   27664622|B00B6QXN6U|     831769051| 2015-08-31|\n",
            "| R9PYL3OYH55QY|   45946560|B001GCZXW6|      14067376| 2015-08-31|\n",
            "|R3PWBAWUS4NT0Q|   15146326|B000003EK6|     566295619| 2015-08-31|\n",
            "|R15LYP3O51UU9E|   16794688|B00N1F0BKK|     210426072| 2015-08-31|\n",
            "|R1AD7L0CC3DSRI|   32203364|B00V7KAO7Q|     360249504| 2015-08-31|\n",
            "|R32FE8Y45QV434|    1194276|B000094Q4P|      20972283| 2015-08-31|\n",
            "|R3NM4MZ4XWL43Q|   45813052|B00JMK0P1I|     378049560| 2015-08-31|\n",
            "|R3H4FXX6Q7I37D|   12795687|B008OW1S3O|     141620702| 2015-08-31|\n",
            "|R30L5PET7LFFDC|   36673840|B00VI2L3L4|     920557135| 2015-08-31|\n",
            "|  REFRE1LEKLAF|   49453576|B0000041EV|     683128964| 2015-08-31|\n",
            "|R3JTJ5EQN74E9H|    3285047|B00005YW4H|     268461622| 2015-08-31|\n",
            "|R1W2F091LCOAW5|   24471201|B00Q9KEZV0|     444090572| 2015-08-31|\n",
            "| RYUMFQRRB1FNM|   28049396|B00GFXRKHW|     482597726| 2015-08-31|\n",
            "| RHCS6VVXWV3Q3|   41137196|B004L3AQ10|     609457123| 2015-08-31|\n",
            "|R35UL1YZ2142SL|   43305401|B0000025PM|     125399885| 2015-08-31|\n",
            "|  RU1O6QD1LEBB|   50808489|B00701QUN8|     144457491| 2015-08-31|\n",
            "|R36RXVL3XIZFH7|   15536614|B003UJC2QI|     207971309| 2015-08-31|\n",
            "|R16O7SHYHLEYA1|   32536909|B00LGA16J2|     760666287| 2015-08-31|\n",
            "|R1Y5GX65Z2V9BG|   51160312|B00ZGVMLLE|      37408836| 2015-08-31|\n",
            "+--------------+-----------+----------+--------------+-----------+\n",
            "only showing top 20 rows\n",
            "\n"
          ],
          "name": "stdout"
        }
      ]
    },
    {
      "cell_type": "code",
      "metadata": {
        "id": "lzMmkdKmY--D",
        "colab": {
          "base_uri": "https://localhost:8080/"
        },
        "outputId": "c4710a5f-a0f2-4f9a-dbb2-b050a6d40462"
      },
      "source": [
        "# Create the vine_table. DataFrame\n",
        "vine_df = df.select(['review_id', 'star_rating', 'helpful_votes', 'total_votes', 'vine', 'verified_purchase'])\n",
        "vine_df.show()"
      ],
      "execution_count": 18,
      "outputs": [
        {
          "output_type": "stream",
          "text": [
            "+--------------+-----------+-------------+-----------+----+-----------------+\n",
            "|     review_id|star_rating|helpful_votes|total_votes|vine|verified_purchase|\n",
            "+--------------+-----------+-------------+-----------+----+-----------------+\n",
            "|R3LI5TRP3YIDQL|          5|            0|          0|   N|                Y|\n",
            "|R3LGC3EKEG84PX|          5|            0|          0|   N|                Y|\n",
            "| R9PYL3OYH55QY|          5|            0|          1|   N|                Y|\n",
            "|R3PWBAWUS4NT0Q|          3|            0|          0|   N|                Y|\n",
            "|R15LYP3O51UU9E|          5|            0|          0|   N|                Y|\n",
            "|R1AD7L0CC3DSRI|          5|            0|          0|   N|                Y|\n",
            "|R32FE8Y45QV434|          5|            0|          0|   N|                Y|\n",
            "|R3NM4MZ4XWL43Q|          5|            1|          2|   N|                Y|\n",
            "|R3H4FXX6Q7I37D|          4|            0|          0|   N|                Y|\n",
            "|R30L5PET7LFFDC|          5|            1|          1|   N|                Y|\n",
            "|  REFRE1LEKLAF|          4|            1|          1|   N|                Y|\n",
            "|R3JTJ5EQN74E9H|          5|            0|          0|   N|                Y|\n",
            "|R1W2F091LCOAW5|          5|            0|          0|   N|                Y|\n",
            "| RYUMFQRRB1FNM|          3|            0|          0|   N|                Y|\n",
            "| RHCS6VVXWV3Q3|          5|            0|          0|   N|                Y|\n",
            "|R35UL1YZ2142SL|          5|            0|          0|   N|                Y|\n",
            "|  RU1O6QD1LEBB|          5|            0|          0|   N|                Y|\n",
            "|R36RXVL3XIZFH7|          5|            0|          0|   N|                N|\n",
            "|R16O7SHYHLEYA1|          5|            0|          0|   N|                Y|\n",
            "|R1Y5GX65Z2V9BG|          5|            0|          0|   N|                N|\n",
            "+--------------+-----------+-------------+-----------+----+-----------------+\n",
            "only showing top 20 rows\n",
            "\n"
          ],
          "name": "stdout"
        }
      ]
    },
    {
      "cell_type": "markdown",
      "metadata": {
        "id": "jITZhLkmY--J"
      },
      "source": [
        "### Connect to the AWS RDS instance and write each DataFrame to its table. "
      ]
    },
    {
      "cell_type": "code",
      "metadata": {
        "id": "7jiUvs1aY--L"
      },
      "source": [
        "# Configure settings for RDS\n",
        "mode = \"append\"\n",
        "jdbc_url=\"jdbc:postgresql://big-data-challenge.cuipw6hdo02k.us-east-2.rds.amazonaws.com:5432/Bigdata_Challenge\"\n",
        "config = {\"user\":\"postgres\", \n",
        "          \"password\": \"*****\", \n",
        "          \"driver\":\"org.postgresql.Driver\"}"
      ],
      "execution_count": 25,
      "outputs": []
    },
    {
      "cell_type": "code",
      "metadata": {
        "id": "T2zgZ-aKY--Q"
      },
      "source": [
        "# Write review_id_df to table in RDS\n",
        "review_id_df.write.jdbc(url=jdbc_url, table='review_id_table', mode=mode, properties=config)\n"
      ],
      "execution_count": 26,
      "outputs": []
    },
    {
      "cell_type": "code",
      "metadata": {
        "id": "1m3yzn-LY--U"
      },
      "source": [
        "# Write products_df to table in RDS\n",
        "# about 3 min\n",
        "products_df.write.jdbc(url=jdbc_url, table='products_table', mode=mode, properties=config)"
      ],
      "execution_count": 27,
      "outputs": []
    },
    {
      "cell_type": "code",
      "metadata": {
        "id": "KbXri15fY--Z"
      },
      "source": [
        "# Write customers_df to table in RDS\n",
        "# 5 min 14 s\n",
        "customers_df.write.jdbc(url=jdbc_url, table='customers_table', mode=mode, properties=config)"
      ],
      "execution_count": 28,
      "outputs": []
    },
    {
      "cell_type": "code",
      "metadata": {
        "id": "XdQknSHLY--e"
      },
      "source": [
        "# Write vine_df to table in RDS\n",
        "# 11 minutes\n",
        "vine_df.write.jdbc(url=jdbc_url, table='vine_table', mode=mode, properties=config)"
      ],
      "execution_count": 29,
      "outputs": []
    },
    {
      "cell_type": "code",
      "metadata": {
        "id": "pbr_Jj_Te-cH"
      },
      "source": [
        ""
      ],
      "execution_count": null,
      "outputs": []
    },
    {
      "cell_type": "code",
      "metadata": {
        "id": "Exuo6ebUsCqW"
      },
      "source": [
        ""
      ],
      "execution_count": null,
      "outputs": []
    }
  ]
}